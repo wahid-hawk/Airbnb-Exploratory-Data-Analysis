{
  "nbformat": 4,
  "nbformat_minor": 0,
  "metadata": {
    "colab": {
      "private_outputs": true,
      "provenance": [],
      "collapsed_sections": [
        "vncDsAP0Gaoa",
        "w6K7xa23Elo4",
        "PH-0ReGfmX4f",
        "mDgbUHAGgjLW",
        "PBTbrJXOngz2",
        "u3PMJOP6ngxN",
        "dauF4eBmngu3",
        "bKJF3rekwFvQ",
        "MSa1f5Uengrz",
        "GF8Ens_Soomf",
        "0wOQAZs5pc--",
        "K5QZ13OEpz2H",
        "lQ7QKXXCp7Bj",
        "448CDAPjqfQr",
        "KSlN3yHqYklG",
        "t6dVpIINYklI",
        "ijmpgYnKYklI",
        "-JiQyfWJYklI",
        "EM7whBJCYoAo",
        "fge-S5ZAYoAp",
        "85gYPyotYoAp",
        "RoGjAbkUYoAp",
        "4Of9eVA-YrdM",
        "iky9q4vBYrdO",
        "F6T5p64dYrdO",
        "y-Ehk30pYrdP",
        "bamQiAODYuh1",
        "QHF8YVU7Yuh3",
        "GwzvFGzlYuh3",
        "qYpmQ266Yuh3",
        "OH-pJp9IphqM",
        "bbFf2-_FphqN",
        "_ouA3fa0phqN",
        "Seke61FWphqN",
        "PIIx-8_IphqN",
        "t27r6nlMphqO",
        "r2jJGEOYphqO",
        "b0JNsNcRphqO",
        "BZR9WyysphqO",
        "jj7wYXLtphqO",
        "eZrbJ2SmphqO",
        "rFu4xreNphqO",
        "YJ55k-q6phqO",
        "gCFgpxoyphqP",
        "OVtJsKN_phqQ",
        "lssrdh5qphqQ",
        "U2RJ9gkRphqQ",
        "1M8mcRywphqQ",
        "tgIPom80phqQ",
        "JMzcOPDDphqR",
        "x-EpHcCOp1ci",
        "X_VqEhTip1ck",
        "8zGJKyg5p1ck",
        "PVzmfK_Ep1ck",
        "n3dbpmDWp1ck",
        "ylSl6qgtp1ck",
        "ZWILFDl5p1ck",
        "M7G43BXep1ck",
        "Ag9LCva-p1cl",
        "E6MkPsBcp1cl",
        "2cELzS2fp1cl",
        "3MPXvC8up1cl",
        "NC_X3p0fY2L0",
        "UV0SzAkaZNRQ",
        "YPEH6qLeZNRQ",
        "q29F0dvdveiT",
        "EXh0U9oCveiU",
        "22aHeOlLveiV",
        "JcMwzZxoAimU",
        "8G2x9gOozGDZ",
        "gCX9965dhzqZ",
        "gIfDvo9L0UH2"
      ],
      "include_colab_link": true
    },
    "kernelspec": {
      "name": "python3",
      "display_name": "Python 3"
    },
    "language_info": {
      "name": "python"
    }
  },
  "cells": [
    {
      "cell_type": "markdown",
      "metadata": {
        "id": "view-in-github",
        "colab_type": "text"
      },
      "source": [
        "<a href=\"https://colab.research.google.com/github/wahid-hawk/Airbnb-Exploratory-Data-Analysis/blob/main/Airbnb_Exploratory_Data_Analysis.ipynb\" target=\"_parent\"><img src=\"https://colab.research.google.com/assets/colab-badge.svg\" alt=\"Open In Colab\"/></a>"
      ]
    },
    {
      "cell_type": "markdown",
      "source": [
        "# **Project Name**    - Airbnb Bookings Analysis\n",
        "\n"
      ],
      "metadata": {
        "id": "vncDsAP0Gaoa"
      }
    },
    {
      "cell_type": "markdown",
      "source": [
        "## **Project Type** - EDA/Regression/Classification/Unsupervised\n",
        "### **Contribution** - Individual\n",
        "### **Name -** ABDUL WAHID\n",
        "\n"
      ],
      "metadata": {
        "id": "beRrZCGUAJYm"
      }
    },
    {
      "cell_type": "markdown",
      "source": [
        "# **Project Summary -**"
      ],
      "metadata": {
        "id": "FJNUwmbgGyua"
      }
    },
    {
      "cell_type": "markdown",
      "source": [
        "### Project Statement\n",
        "\n",
        "1. **Purpose of the Analysis:**\n",
        "    - The aim of this analysis is to understand the factors that influence Airbnb prices in New York City and identify patterns across various variables. This will provide valuable information for both travelers and hosts and offer actionable insights for the Airbnb business.\n",
        "\n",
        "2. **Data Exploration and Cleaning:**\n",
        "    - This project involved a thorough exploration and cleaning of the dataset to prepare it for analysis. During data exploration, we identified the characteristics of the data, such as data types, missing values, and value distributions. The data cleaning process involved addressing issues like errors, missing values, and duplicate records, and removing outliers.\n",
        "\n",
        "3. **Ensuring Data Quality:**\n",
        "    - By identifying and resolving issues with the data, we ensured it was of high quality and ready for further analysis. This crucial step helps avoid potential biases or errors that could affect the results, allowing for more accurate and reliable analysis.\n",
        "\n",
        "4. **Exploring and Summarizing Data:**\n",
        "    - Once cleaned, we began exploring and summarizing the data. This involved describing the data, creating visualizations, and identifying patterns and trends. We developed relationships between different variables and explored the underlying causes of observed patterns and trends.\n",
        "\n",
        "5. **Data Visualization:**\n",
        "    - We used data visualization to better understand patterns in the Airbnb data. By creating various graphs and charts, we were able to visualize the data and annotate observations and insights, which helped in identifying useful trends and relationships.\n",
        "\n",
        "6. **Key Findings:**\n",
        "    - Through data visualization and analysis, we uncovered trends and relationships that would have been difficult to identify from raw data alone. Key factors affecting prices include minimum nights, number of reviews, and host listing count. Additionally, availability varies significantly across neighborhoods.\n",
        "\n",
        "7. **Utility of Insights:**\n",
        "    - The observations and insights identified through this process are valuable for future analysis and decision-making related to Airbnb. Our analysis provides useful information for both travelers and hosts in the city, helping them make informed decisions.\n",
        "\n",
        "8. **Conclusion:**\n",
        "    - The analysis reveals several key insights into the Airbnb market in NYC, highlighting important factors influencing prices and availability. This information is crucial for optimizing property investments, enhancing guest experiences, and improving overall business performance for Airbnb hosts and investors in New York City."
      ],
      "metadata": {
        "id": "F6v_1wHtG2nS"
      }
    },
    {
      "cell_type": "markdown",
      "source": [
        "# **GitHub Link -**"
      ],
      "metadata": {
        "id": "w6K7xa23Elo4"
      }
    },
    {
      "cell_type": "markdown",
      "source": [
        "[https://github.com/wahid-hawk/Airbnb-Exploratory-Data-Analysis](https://)"
      ],
      "metadata": {
        "id": "h1o69JH3Eqqn"
      }
    },
    {
      "cell_type": "markdown",
      "source": [
        "# **Problem Statement**\n"
      ],
      "metadata": {
        "id": "yQaldy8SH6Dl"
      }
    },
    {
      "cell_type": "markdown",
      "source": [
        "1.   What are the most popular neighborhoods for Airbnb rentals in New York City? How do prices and availability vary by neighborhood?\n",
        "\n",
        "2.   How has the Airbnb market in New York City changed over time? Have there been any significant trends in terms of the number of listings, prices, or occupancy rates?\n",
        "\n",
        "3.   Are there any patterns or trends in terms of the types of properties that are being rented out on Airbnb in New York City? Are certain types of properties more popular or more expensive than others?\n",
        "\n",
        "4.   Are there any factors that seem to be correlated with the prices of Airbnb rentals in New York City?\n",
        "\n",
        "5.   the best area in New York City for a host to buy property at a good price rate and in an area with high traffic ?\n",
        "\n",
        "6.   How do the lengths of stay for Airbnb rentals in New York City vary by neighborhood? Do certain neighborhoods tend to attract longer or shorter stays?\n",
        "\n",
        "7.   How do the ratings of Airbnb rentals in New York City compare to their prices? Are higher-priced rentals more likely to have higher ratings?\n",
        "\n",
        "8. Find the total numbers of Reviews and Maximum Reviews by Each Neighborhood Group.\n",
        "\n",
        "9. Find Most reviewed room type in Neighborhood groups per month.\n",
        "\n",
        "10. Find Best location listing/property location for travelers.\n",
        "\n",
        "11. Find also best location listing/property location for Hosts.\n",
        "\n",
        "12. Find Price variations in NYC Neighborhood groups.\n",
        "\n",
        "there is a lot of problem statements and we have to finds information and insights through different different problem statements so now lets start...\n",
        "\n",
        "\n",
        "\n",
        "\n",
        "\n",
        "\n",
        "\n",
        "\n"
      ],
      "metadata": {
        "id": "DpeJGUA3kjGy"
      }
    },
    {
      "cell_type": "markdown",
      "source": [
        "#### **Define Your Business Objective?**"
      ],
      "metadata": {
        "id": "PH-0ReGfmX4f"
      }
    },
    {
      "cell_type": "markdown",
      "source": [
        "\n",
        "\n",
        "*   Identify high-demand neighborhoods for Airbnb rentals\n",
        "\n",
        "*   Understand market trends in listings, prices, and occupancy rates\n",
        "\n",
        "*   Optimize property selection for Airbnb rentals\n",
        "\n",
        "*   Develop data-driven pricing strategies\n",
        "*   Tailor marketing strategies to specific neighborhoods\n",
        "\n",
        "\n",
        "*   Improve listing quality by understanding the relationship between price and guest satisfaction\n",
        "\n",
        "\n",
        "*   Analyze guest sentiment by neighborhood through review analysis\n",
        "\n",
        "\n",
        "*   Identify popular accommodation styles by neighborhood to help hosts optimize their listings\n",
        "\n",
        "\n",
        "*   Recommend optimal locations for travelers based on their preferences\n",
        "*   Identify ideal neighborhoods for hosts to invest in properties\n",
        "\n",
        "*   Develop localized pricing strategies by understanding neighborhood-specific price variations\n",
        "\n",
        "\n",
        "\n",
        "\n",
        "\n",
        "\n"
      ],
      "metadata": {
        "id": "PhDvGCAqmjP1"
      }
    },
    {
      "cell_type": "markdown",
      "source": [
        "# **General Guidelines** : -  "
      ],
      "metadata": {
        "id": "mDgbUHAGgjLW"
      }
    },
    {
      "cell_type": "markdown",
      "source": [
        "1.   Well-structured, formatted, and commented code is required.\n",
        "2.   Exception Handling, Production Grade Code & Deployment Ready Code will be a plus. Those students will be awarded some additional credits.\n",
        "     \n",
        "     The additional credits will have advantages over other students during Star Student selection.\n",
        "       \n",
        "             [ Note: - Deployment Ready Code is defined as, the whole .ipynb notebook should be executable in one go\n",
        "                       without a single error logged. ]\n",
        "\n",
        "3.   Each and every logic should have proper comments.\n",
        "4. You may add as many number of charts you want. Make Sure for each and every chart the following format should be answered.\n",
        "        \n",
        "\n",
        "```\n",
        "# Chart visualization code\n",
        "```\n",
        "            \n",
        "\n",
        "*   Why did you pick the specific chart?\n",
        "*   What is/are the insight(s) found from the chart?\n",
        "* Will the gained insights help creating a positive business impact?\n",
        "Are there any insights that lead to negative growth? Justify with specific reason.\n",
        "\n",
        "5. You have to create at least 20 logical & meaningful charts having important insights.\n",
        "\n",
        "\n",
        "[ Hints : - Do the Vizualization in  a structured way while following \"UBM\" Rule.\n",
        "\n",
        "U - Univariate Analysis,\n",
        "\n",
        "B - Bivariate Analysis (Numerical - Categorical, Numerical - Numerical, Categorical - Categorical)\n",
        "\n",
        "M - Multivariate Analysis\n",
        " ]\n",
        "\n",
        "\n",
        "\n"
      ],
      "metadata": {
        "id": "ZrxVaUj-hHfC"
      }
    },
    {
      "cell_type": "markdown",
      "source": [
        "# ***Let's Begin !***"
      ],
      "metadata": {
        "id": "O_i_v8NEhb9l"
      }
    },
    {
      "cell_type": "markdown",
      "source": [
        "![stockfresh_9557526_data-analytics-systems-software-for-mobile-devices_sizeS.jpg](data:image/jpeg;base64,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)"
      ],
      "metadata": {
        "id": "38MfNqSaezcJ"
      }
    },
    {
      "cell_type": "markdown",
      "source": [
        "## ***1. Know Your Data***"
      ],
      "metadata": {
        "id": "HhfV-JJviCcP"
      }
    },
    {
      "cell_type": "markdown",
      "source": [
        "### Import Libraries"
      ],
      "metadata": {
        "id": "Y3lxredqlCYt"
      }
    },
    {
      "cell_type": "code",
      "source": [
        "# Import Libraries\n",
        "import numpy as np\n",
        "import pandas as pd\n",
        "import matplotlib.pyplot as plt   #for visualization\n",
        "%matplotlib inline\n",
        "import seaborn as sns            # for visualization\n",
        "import warnings\n",
        "warnings.filterwarnings('ignore')"
      ],
      "metadata": {
        "id": "M8Vqi-pPk-HR"
      },
      "execution_count": null,
      "outputs": []
    },
    {
      "cell_type": "markdown",
      "source": [
        "### Dataset Loading"
      ],
      "metadata": {
        "id": "3RnN4peoiCZX"
      }
    },
    {
      "cell_type": "code",
      "source": [
        "# Load Dataset\n",
        "from google.colab import drive\n",
        "drive.mount('/content/drive')"
      ],
      "metadata": {
        "id": "4CkvbW_SlZ_R"
      },
      "execution_count": null,
      "outputs": []
    },
    {
      "cell_type": "code",
      "source": [
        "Airbnb_file_path = '/content/drive/MyDrive/Airbnb NYC 2019.csv'\n",
        "\n",
        "airbnb_df = pd.read_csv(Airbnb_file_path)\n",
        "airbnb_df"
      ],
      "metadata": {
        "id": "-99IAY3pids6"
      },
      "execution_count": null,
      "outputs": []
    },
    {
      "cell_type": "markdown",
      "source": [
        "### Dataset First View"
      ],
      "metadata": {
        "id": "x71ZqKXriCWQ"
      }
    },
    {
      "cell_type": "code",
      "source": [
        "# Dataset First Look\n",
        "airbnb_df.head().T"
      ],
      "metadata": {
        "id": "LWNFOSvLl09H"
      },
      "execution_count": null,
      "outputs": []
    },
    {
      "cell_type": "markdown",
      "source": [
        "### Dataset Rows & Columns count"
      ],
      "metadata": {
        "id": "7hBIi_osiCS2"
      }
    },
    {
      "cell_type": "code",
      "source": [
        "# Dataset Rows & Columns count\n",
        "airbnb_df.shape"
      ],
      "metadata": {
        "id": "Kllu7SJgmLij"
      },
      "execution_count": null,
      "outputs": []
    },
    {
      "cell_type": "code",
      "source": [
        "airbnb_df.columns"
      ],
      "metadata": {
        "id": "RQ730V88kNwb"
      },
      "execution_count": null,
      "outputs": []
    },
    {
      "cell_type": "markdown",
      "source": [
        "### Dataset Information"
      ],
      "metadata": {
        "id": "JlHwYmJAmNHm"
      }
    },
    {
      "cell_type": "code",
      "source": [
        "# Dataset Info\n",
        "airbnb_df.info()"
      ],
      "metadata": {
        "id": "e9hRXRi6meOf"
      },
      "execution_count": null,
      "outputs": []
    },
    {
      "cell_type": "markdown",
      "source": [
        "### Duplicate Values"
      ],
      "metadata": {
        "id": "35m5QtbWiB9F"
      }
    },
    {
      "cell_type": "code",
      "source": [
        "# Dataset Duplicate Value Count\n",
        "airbnb_df = airbnb_df.drop_duplicates()\n",
        "airbnb_df.count()"
      ],
      "metadata": {
        "id": "1sLdpKYkmox0"
      },
      "execution_count": null,
      "outputs": []
    },
    {
      "cell_type": "markdown",
      "source": [
        "### What did you know about your dataset?"
      ],
      "metadata": {
        "id": "H0kj-8xxnORC"
      }
    },
    {
      "cell_type": "markdown",
      "source": [
        "####**About the Dataset – Airbnb Bookings**\n",
        "\n",
        "*   This Airbnb dataset contains nearly 49,000 observations from New York , with 16 columns of data.\n",
        "\n",
        "*   The Data includes both categorical and numeric values, providing a diverse range of information about the listings.\n",
        "\n",
        "*   This Dataset may be useful for analyzing trends and patterns in the Airbnb market in New York and also gain insights into the preferences and behavior of Airbnb users in the area.\n",
        "\n",
        "*   This dataset contains information about Airbnb bookings in New York City in 2019. By analyzing this data, you may be able to understand the trends and patterns of Airbnb use in the NYC."
      ],
      "metadata": {
        "id": "ouvatP77WQiE"
      }
    },
    {
      "cell_type": "markdown",
      "source": [
        "---\n",
        "####**UNDERSTAND THE GIVEN VARIABLES**\n",
        "\n",
        "**Listing_id :-** This is a unique identifier for each listing in the dataset.\n",
        "\n",
        "**Listing_name :-** This is the name or title of the listing, as it appears on the Airbnb website.\n",
        "\n",
        "**Host_id :-** This is a unique identifier for each host in the dataset.\n",
        "\n",
        "**Host_name :-** This is the name of the host as it appears on the Airbnb website.\n",
        "\n",
        "**Neighbourhood_group :-** This is a grouping of neighborhoods in New York City, such as Manhattan or Brooklyn.\n",
        "\n",
        "**Neighbourhood :-** This is the specific neighborhood in which the listing is located.\n",
        "\n",
        "**Latitude :-** This is the geographic latitude of the listing.\n",
        "\n",
        "**Longitude :-** This is the geographic longitude of the listing.\n",
        "\n",
        "**Room_type :-** This is the type of room or property being offered, such as an entire home, private room, shared room.\n",
        "\n",
        "**Price :-** This is the nightly price for the listing, in US dollars.\n",
        "\n",
        "**Minimum_nights :-** This is the minimum number of nights that a guest must stay at the listing.\n",
        "\n",
        "**Total_reviews :-** This is the total number of reviews that the listing has received.\n",
        "\n",
        "**Reviews_per_month :-** This is the average number of reviews that the listing receives per month.\n",
        "\n",
        "**Host_listings_count :-** This is the total number of listings that the host has on Airbnb.\n",
        "\n",
        "**Availability_365 :-** This is the number of days in the next 365 days that the listing is available for booking.\n",
        "\n",
        "---"
      ],
      "metadata": {
        "id": "F9vFH4raVx4I"
      }
    },
    {
      "cell_type": "markdown",
      "source": [
        "##  ***2.Data Wrangling***"
      ],
      "metadata": {
        "id": "CWWs1eA19bm5"
      }
    },
    {
      "cell_type": "markdown",
      "source": [
        "#### Missing Values/Null Values"
      ],
      "metadata": {
        "id": "PoPl-ycgm1ru"
      }
    },
    {
      "cell_type": "code",
      "source": [
        "# Missing Values/Null Values Count\n",
        "airbnb_df.isnull().sum()"
      ],
      "metadata": {
        "id": "GgHWkxvamxVg"
      },
      "execution_count": null,
      "outputs": []
    },
    {
      "cell_type": "code",
      "source": [
        "# Visualizing the missing values\n",
        "airbnb_df['name'].fillna('unknown', inplace = True)\n",
        "airbnb_df['host_name'].fillna('unknown', inplace=True)"
      ],
      "metadata": {
        "id": "3q5wnI3om9sJ"
      },
      "execution_count": null,
      "outputs": []
    },
    {
      "cell_type": "code",
      "source": [
        "#null values are replaced\n",
        "airbnb_df[['host_name','name']].isnull().sum()"
      ],
      "metadata": {
        "id": "QKENdYsZqMiA"
      },
      "execution_count": null,
      "outputs": []
    },
    {
      "cell_type": "code",
      "source": [
        "airbnb_df = airbnb_df.drop(['last_review'], axis=1)  #removing last_review column because not usefull"
      ],
      "metadata": {
        "id": "XcobjL_ksBv_"
      },
      "execution_count": null,
      "outputs": []
    },
    {
      "cell_type": "code",
      "source": [
        "airbnb_df.info()"
      ],
      "metadata": {
        "id": "HmyykAdrtdX0"
      },
      "execution_count": null,
      "outputs": []
    },
    {
      "cell_type": "code",
      "source": [
        "airbnb_df['reviews_per_month'] = airbnb_df['reviews_per_month'].replace(to_replace= np.nan, value= 0).astype('int64')"
      ],
      "metadata": {
        "id": "R_0rXVkntnxK"
      },
      "execution_count": null,
      "outputs": []
    },
    {
      "cell_type": "code",
      "source": [
        "# the null values are replaced by 0 value\n",
        "airbnb_df['number_of_reviews'].isnull().sum()"
      ],
      "metadata": {
        "id": "Z3xVJwhxvnET"
      },
      "execution_count": null,
      "outputs": []
    },
    {
      "cell_type": "code",
      "source": [
        "airbnb_df.sample(5)"
      ],
      "metadata": {
        "id": "tzvdE-E0v_WP"
      },
      "execution_count": null,
      "outputs": []
    },
    {
      "cell_type": "markdown",
      "source": [
        "Answer Here"
      ],
      "metadata": {
        "id": "gfoNAAC-nUe_"
      }
    },
    {
      "cell_type": "markdown",
      "source": [
        "## ***3. Understanding Your Variables***"
      ],
      "metadata": {
        "id": "nA9Y7ga8ng1Z"
      }
    },
    {
      "cell_type": "code",
      "source": [
        "# check unique values for listing/property ids\n",
        "# all the listing ids are different and each listings are different here.\n",
        "airbnb_df['id'].nunique()"
      ],
      "metadata": {
        "id": "j7xfkqrt5Ag5"
      },
      "execution_count": null,
      "outputs": []
    },
    {
      "cell_type": "code",
      "source": [
        "#unique nighborhood in Dataset\n",
        "airbnb_df['neighbourhood'].nunique()"
      ],
      "metadata": {
        "id": "d7fWyQOz6STs"
      },
      "execution_count": null,
      "outputs": []
    },
    {
      "cell_type": "code",
      "source": [
        "#unique nighbourhood_group in dataset\n",
        "airbnb_df['neighbourhood_group'].nunique()"
      ],
      "metadata": {
        "id": "ZecZDqZ76wsZ"
      },
      "execution_count": null,
      "outputs": []
    },
    {
      "cell_type": "code",
      "source": [
        "#different host in the dataset\n",
        "airbnb_df['host_name'].nunique()"
      ],
      "metadata": {
        "id": "XH3nAfSq7CjT"
      },
      "execution_count": null,
      "outputs": []
    },
    {
      "cell_type": "code",
      "source": [
        "#different listing names\n",
        "airbnb_df['name'].nunique()"
      ],
      "metadata": {
        "id": "EKOYFcfm7V3U"
      },
      "execution_count": null,
      "outputs": []
    },
    {
      "cell_type": "code",
      "source": [
        "# same host operates different property\n",
        "airbnb_df[airbnb_df['host_name']=='David']['name'].nunique()"
      ],
      "metadata": {
        "id": "jHAK_rAn-ed-"
      },
      "execution_count": null,
      "outputs": []
    },
    {
      "cell_type": "code",
      "source": [
        "# there are some propertioes in which the listing/ property and host names are same\n",
        "airbnb_df[airbnb_df['name'] == airbnb_df['host_name']].sample(5)"
      ],
      "metadata": {
        "id": "tnRLeuOY_YBE"
      },
      "execution_count": null,
      "outputs": []
    },
    {
      "cell_type": "code",
      "source": [
        "airbnb_df.loc[(airbnb_df['neighbourhood_group'] == 'Manhattan') & (airbnb_df['host_name'] == 'Jennifer')].head()\n",
        "\n",
        "\n"
      ],
      "metadata": {
        "id": "QVHqMwPUGTBC"
      },
      "execution_count": null,
      "outputs": []
    },
    {
      "cell_type": "code",
      "source": [
        "# Dataset Describe\n",
        "airbnb_df.describe()"
      ],
      "metadata": {
        "id": "DnOaZdaE5Q5t"
      },
      "execution_count": null,
      "outputs": []
    },
    {
      "cell_type": "code",
      "source": [
        "sns.boxplot(x = airbnb_df['price'])\n",
        "\n",
        "plt.show()"
      ],
      "metadata": {
        "id": "BZo_7H-wXVgZ"
      },
      "execution_count": null,
      "outputs": []
    },
    {
      "cell_type": "markdown",
      "source": [
        "using IQR Technique"
      ],
      "metadata": {
        "id": "0Itg-tevwfGV"
      }
    },
    {
      "cell_type": "code",
      "source": [
        "def iqr_technique(DFcolumn):\n",
        "  Q1 = np.percentile(DFcolumn, 25)\n",
        "  Q3 = np.percentile(DFcolumn, 75)\n",
        "  IQR = Q3 - Q1\n",
        "  lower_range = Q1 - (1.5 * IQR)\n",
        "  upper_range = Q3 + (1.5 * IQR)\n",
        "\n",
        "  return lower_range, upper_range"
      ],
      "metadata": {
        "id": "yziCp-K7wefE"
      },
      "execution_count": null,
      "outputs": []
    },
    {
      "cell_type": "code",
      "source": [
        "lower_bound,upper_bound = iqr_technique(airbnb_df['price'])\n",
        "\n",
        "airbnb_df = airbnb_df[(airbnb_df.price>lower_bound)&(airbnb_df.price<upper_bound)]\n"
      ],
      "metadata": {
        "id": "hFwU5OMU2N7O"
      },
      "execution_count": null,
      "outputs": []
    },
    {
      "cell_type": "code",
      "source": [
        "# so the outliers are removed from the price column now will check with boxplot\n",
        "sns.boxplot(x = airbnb_df['price'])\n",
        "print(airbnb_df.shape)"
      ],
      "metadata": {
        "id": "b4_sdm7W32K6"
      },
      "execution_count": null,
      "outputs": []
    },
    {
      "cell_type": "code",
      "source": [
        "# outliers are removed and know the max price is\n",
        "print(airbnb_df['price'].max())"
      ],
      "metadata": {
        "id": "Nec7OP2-4epG"
      },
      "execution_count": null,
      "outputs": []
    },
    {
      "cell_type": "markdown",
      "source": [
        "**Note**- price column is very important so we have to find big outlier in important columns first"
      ],
      "metadata": {
        "id": "pTjXHS-qI-aq"
      }
    },
    {
      "cell_type": "markdown",
      "source": [
        "### Variables Description"
      ],
      "metadata": {
        "id": "PBTbrJXOngz2"
      }
    },
    {
      "cell_type": "markdown",
      "source": [
        "**1. Variable Description:**\n",
        "\n",
        "*  Useing airbnb_df.info() to get an initial overview of data types and non-null values for each variable.\n",
        "*  For specific variables, use airbnb_df.describe() to get summary statistics like mean, median, standard deviation, minimum and maximum values (useful for numerical variables).\n",
        "\n",
        "\n",
        "**2. Finding Outliers:**\n",
        "\n",
        "*  Identifying numerical variables that might be susceptible to outliers in this case **Price** playes the crucial role.\n",
        "*  Using boxplots (sns.boxplot(x = airbnb_df['price'])) for the visualization and the distribution and identify potential outliers as data points far outside the box (whiskers).\n",
        "*  Calculated Interquartile Range (IQR) to define outlier thresholds: IQR = Q3 - Q1 (where Q3 is the 75th percentile and Q1 is the 25th percentile). Values below Q1 - 1.5IQR or above Q3 + 1.5IQR can be considered outliers.\n",
        "\n",
        "\n",
        "*   outliers are removed and know the max price is 333.\n",
        "\n",
        "\n"
      ],
      "metadata": {
        "id": "aJV4KIxSnxay"
      }
    },
    {
      "cell_type": "markdown",
      "source": [
        "### What all manipulations have you done and insights you found?"
      ],
      "metadata": {
        "id": "MSa1f5Uengrz"
      }
    },
    {
      "cell_type": "markdown",
      "source": [
        "*  Calculated Interquartile Range (IQR) to define outlier thresholds: IQR = Q3 - Q1 (where Q3 is the 75th percentile and Q1 is the 25th percentile). Values below Q1 - 1.5IQR or above Q3 + 1.5IQR can be considered outliers.\n",
        "\n",
        "\n",
        "*   outliers are removed and know the max price is 333."
      ],
      "metadata": {
        "id": "LbyXE7I1olp8"
      }
    },
    {
      "cell_type": "markdown",
      "source": [
        "## ***4. Data Vizualization, Storytelling & Experimenting with charts : Understand the relationships between variables***"
      ],
      "metadata": {
        "id": "GF8Ens_Soomf"
      }
    },
    {
      "cell_type": "markdown",
      "source": [
        "#### Chart - 1"
      ],
      "metadata": {
        "id": "0wOQAZs5pc--"
      }
    },
    {
      "cell_type": "markdown",
      "source": [
        "**Distribution of airbnb bookings price range using histogram**"
      ],
      "metadata": {
        "id": "IK6EgP9J5NFu"
      }
    },
    {
      "cell_type": "code",
      "source": [
        "# Chart - 1 visualization code\n",
        "# creat a fig with custom size\n",
        "plt.figure(figsize = (12,5))\n",
        "\n",
        "# setting the theam to darkgrid\n",
        "sns.set_theme(style = 'darkgrid')\n",
        "\n",
        "#craeting the histogram of price column\n",
        "sns.distplot(airbnb_df['price'], color =(\"b\"))\n",
        "\n",
        "#adding labels to the x-axis and y-axis\n",
        "plt.xlabel('Price', fontsize = 14)\n",
        "plt.ylabel('Density', fontsize = 14)\n",
        "\n",
        "#adding title of the chart\n",
        "plt.title('Distribution of Airbnb Prices', fontsize = 10)"
      ],
      "metadata": {
        "id": "7v_ESjsspbW7"
      },
      "execution_count": null,
      "outputs": []
    },
    {
      "cell_type": "markdown",
      "source": [
        "##### 1. Why did you pick the specific chart?"
      ],
      "metadata": {
        "id": "K5QZ13OEpz2H"
      }
    },
    {
      "cell_type": "markdown",
      "source": [
        "#####observations\n",
        "\n",
        "\n",
        "1.   the range of prices being charged on airbnb appears to be from 20 to 250 dollors. Majority of listings are falling under the price range of 50 to 150 dollors.\n",
        "2.   There may be fewer listings available at prices above 250 dollars, as the density of listings drops significantly in this range.\n",
        "\n",
        "1.   The distribution of prices appears to have a peak in the 50 to 150 dollars range, with a relatively lower density of listings in higher and lower price ranges.\n",
        "   \n",
        "\n",
        "\n",
        "\n",
        "\n"
      ],
      "metadata": {
        "id": "XESiWehPqBRc"
      }
    },
    {
      "cell_type": "markdown",
      "source": [
        "##### 2. What is/are the insight(s) found from the chart?"
      ],
      "metadata": {
        "id": "lQ7QKXXCp7Bj"
      }
    },
    {
      "cell_type": "markdown",
      "source": [
        " ##### Affordability Focus:\n",
        "  Airbnb caters to a budget-conscious traveler, with the majority of listings concentrated in the $50-150 range. This suggests a strong value proposition for price-sensitive guests.\n",
        "\n",
        "##### Price Sweet Spot:\n",
        " The peak in listings around $50-150 indicates a \"sweet spot\" where hosts can attract a large pool of potential guests while maintaining profitability. It might be a good price point for new hosts to consider.\n",
        "\n",
        "##### Limited High-End Market:\n",
        " The drop-off in listings above $250 suggests a smaller market for luxury rentals on Airbnb. This could be an opportunity for hosts with unique high-end properties to stand out."
      ],
      "metadata": {
        "id": "C_j1G7yiqdRP"
      }
    },
    {
      "cell_type": "markdown",
      "source": [
        "##### 3. Will the gained insights help creating a positive business impact?\n",
        "Are there any insights that lead to negative growth? Justify with specific reason.\n",
        "\n"
      ],
      "metadata": {
        "id": "448CDAPjqfQr"
      }
    },
    {
      "cell_type": "markdown",
      "source": [
        "##### Competition from Budget Hotels:\n",
        "The price range of $50-$150 might overlap with some budget hotel chains. If Airbnb doesn't offer unique experiences or amenities that justify the price compared to a hotel, travelers might opt for the consistency and predictability of a hotel stay\n",
        "\n",
        "##### Missing the High-End Market:\n",
        "While the current market for luxury rentals might be smaller, completely neglecting it could limit Airbnb's overall growth potential. Catering to high-paying guests could bring in more revenue and potentially attract a new segment of travelers to the platform.Answer Here"
      ],
      "metadata": {
        "id": "3cspy4FjqxJW"
      }
    },
    {
      "cell_type": "markdown",
      "source": [
        "#### Chart - 2"
      ],
      "metadata": {
        "id": "KSlN3yHqYklG"
      }
    },
    {
      "cell_type": "code",
      "source": [
        "# count the number of listing in each neighorhood group\n",
        "counts = airbnb_df['neighbourhood_group'].value_counts()\n",
        "# reset the index of the series to make nighborhood group column in the resulting Datafame\n",
        "Top_neighborhood_group = counts.reset_index()\n",
        "# rename the columns of the dataframe\n",
        "Top_neighborhood_group.columns = ['Neighborhood_groups', 'Listing_counts']\n",
        "Top_neighborhood_group"
      ],
      "metadata": {
        "id": "R4YgtaqtYklH"
      },
      "execution_count": null,
      "outputs": []
    },
    {
      "cell_type": "code",
      "source": [
        "#creating a countplot of the neighbourhood groupdata\n",
        "plt.figure(figsize =(12,8))\n",
        "sns.countplot(airbnb_df['neighbourhood_group'])\n",
        "plt.title('Neighbourhood group listing counts in NYC', fontsize= 15)\n",
        "plt.ylabel('Neighborhood_groups', fontsize = 13)\n",
        "plt.xlabel('Listing_counts', fontsize = 13)"
      ],
      "metadata": {
        "id": "Zfy--DNputk4"
      },
      "execution_count": null,
      "outputs": []
    },
    {
      "cell_type": "markdown",
      "source": [
        "##### 1. Why did you pick the specific chart?"
      ],
      "metadata": {
        "id": "t6dVpIINYklI"
      }
    },
    {
      "cell_type": "markdown",
      "source": [
        "##### Focus on counts:\n",
        " Countplots are designed to visually represent the frequency or count of data points within each category. This is perfect for understanding how many listings fall into each neighborhood group.\n",
        "#####Categorical data:\n",
        " Countplots are suited for categorical data, where the data points fall into distinct groups (like neighborhood groups) rather than continuous values.\n",
        "##### Comparison:\n",
        " Countplots allow you to easily compare the counts between different categories. By looking at the height of each bar, you can see which neighborhood groups have the most listings and which have the fewest."
      ],
      "metadata": {
        "id": "5aaW0BYyYklI"
      }
    },
    {
      "cell_type": "markdown",
      "source": [
        "##### 2. What is/are the insight(s) found from the chart?"
      ],
      "metadata": {
        "id": "ijmpgYnKYklI"
      }
    },
    {
      "cell_type": "markdown",
      "source": [
        "#####Observations\n",
        "\n",
        "\n",
        "*   Manhattan and Brooklyn have the highest number of listings on Airbnb, with over 19,000 listings each.\n",
        "\n",
        "\n",
        "*   Queens and the Bronx have significantly fewer listings compared to Manhattan and Brooklyn, with 5,567 and 1,070 listings, respectively\n",
        "\n",
        "*   Staten Island has the fewest number of listings, with only 365.\n",
        "\n",
        "\n",
        "*   Despite being larger in size, the neighborhoods in Queens, the Bronx, and Staten Island have fewer listings on Airbnb compared to Manhattan, which has a smaller geographical area\n",
        "\n",
        "\n",
        "\n",
        "\n",
        "\n"
      ],
      "metadata": {
        "id": "PSx9atu2YklI"
      }
    },
    {
      "cell_type": "markdown",
      "source": [
        "##### 3. Will the gained insights help creating a positive business impact?\n",
        "Are there any insights that lead to negative growth? Justify with specific reason."
      ],
      "metadata": {
        "id": "-JiQyfWJYklI"
      }
    },
    {
      "cell_type": "markdown",
      "source": [
        "##### Certainly, the gained insights can  be helpful for Airbnb to make positive business decisions:\n",
        "\n",
        "#####Focus marketing efforts:\n",
        " By knowing which neighborhoods have the most listings (Manhattan and Brooklyn), Airbnb can target its marketing campaigns more effectively to reach potential hosts in those areas. This can lead to an increase in supply of listings on the platform.\n",
        "\n",
        "#####Improve search experience:\n",
        " Understanding the distribution of listings (more listings in Manhattan and Brooklyn compared to other) can help Airbnb improve its search algorithm to better surface relevant listings to users based on their location preferences. This can improve user satisfaction and lead to more bookings.\n",
        "\n",
        "#####Partner with local businesses:\n",
        " Airbnb can partner with businesses in popular neighborhoods (Manhattan and Brooklyn) to offer discounts or promotions to Airbnb guests, creating a win-win situation for all parties. This can attract more guests to these neighborhoods and boost the local economy."
      ],
      "metadata": {
        "id": "BcBbebzrYklV"
      }
    },
    {
      "cell_type": "markdown",
      "source": [
        "#### Chart - 3"
      ],
      "metadata": {
        "id": "EM7whBJCYoAo"
      }
    },
    {
      "cell_type": "code",
      "source": [
        "# Group the Airbnb dataset by neighborhood group and calculate the mean of each group\n",
        "grouped = airbnb_df.groupby(\"neighbourhood_group\")\n",
        "def calculate_group_stats(group_data):\n",
        "    # Access and calculate statistics for numerical columns within the group\n",
        "    numerical_data = group_data.select_dtypes(include=['int64', 'float64'])  # Select numerical columns\n",
        "    return numerical_data.mean()  # Calculate mean for each numerical column\n",
        "\n",
        "mean_of_grouped_data = grouped.apply(calculate_group_stats)\n",
        "#reset the index of the grouped dataframe so that the neighbourhood group becomes a column\n",
        "neighbourhood_group_avg_price = mean_of_grouped_data.reset_index()\n",
        "\n",
        "#Rename the price index to the avg price\n",
        "neighbourhood_group_avg_price = round(neighbourhood_group_avg_price.rename(columns = {\"price\": \"avg_price\"}),2)\n",
        "\n",
        "#select only the \"neighbourhood group\" and \"avg price\" columns\n",
        "neighbourhood_group_avg_price[['neighbourhood_group', 'avg_price']].head()\n",
        "\n"
      ],
      "metadata": {
        "id": "t6GMdE67YoAp"
      },
      "execution_count": null,
      "outputs": []
    },
    {
      "cell_type": "code",
      "source": [
        "#creating the pointplot\n",
        "sns.pointplot(x= 'neighbourhood_group', y='avg_price', data=neighbourhood_group_avg_price)\n",
        "\n",
        "#add axis labels and Title\n",
        "plt.xlabel('Neighbourhood Group', fontsize=14)\n",
        "plt.ylabel('average Price', fontsize = 14)\n",
        "plt.title('Average Price by Neighbourhood group', fontsize = 15)\n"
      ],
      "metadata": {
        "id": "u4Kpf6kIkdVt"
      },
      "execution_count": null,
      "outputs": []
    },
    {
      "cell_type": "markdown",
      "source": [
        "##### 1. Why did you pick the specific chart?"
      ],
      "metadata": {
        "id": "fge-S5ZAYoAp"
      }
    },
    {
      "cell_type": "markdown",
      "source": [
        " I chose a point plot (also sometimes called a scatter plot) for visualizing the average price by neighborhood group in the Airbnb data for a few reasons:\n",
        "#####Suitability for Discrete Data:\n",
        " The neighborhood group is likely a categorical variable with discrete values representing different neighborhoods. Point plots are well-suited for displaying relationships between categorical variables on one axis and numerical data on the other.\n",
        "#####Distrubution Exploration:\n",
        " Point plots allow you to see the distribution of the average price within each neighborhood group. This can reveal trends or outliers that might not be as evident in other plot types like bar charts.\n",
        "#####Comparision Across Groups:\n",
        " Point plots effectively highlight the average price for each neigbourhood group, making it easy tocompare prices between different locations.\n"
      ],
      "metadata": {
        "id": "5dBItgRVYoAp"
      }
    },
    {
      "cell_type": "markdown",
      "source": [
        "##### 2. What is/are the insight(s) found from the chart?"
      ],
      "metadata": {
        "id": "85gYPyotYoAp"
      }
    },
    {
      "cell_type": "markdown",
      "source": [
        "##### Observations\n",
        "\n",
        "\n",
        "*   The average price of a listing in New York City varies significantly across different neighborhoods, with Manhattan having the highest 146 dollars/day average price and the Bronx having the lowest near 77 dollars/day\n",
        "\n",
        "*   The average price increases as you move from the outer boroughs (Bronx, Brooklyn, Queens, and Staten Island) towards the center of the city (Manhattan)\n",
        "*   The average price in queens and Staten Island is relatively similar, despite being in different parts of the city.\n",
        "\n",
        "\n",
        "*   The data suggests that the overall cost of living in New York City is higher in the center of the city (Manhattan) compared to the outer boroughs\n",
        "\n"
      ],
      "metadata": {
        "id": "4jstXR6OYoAp"
      }
    },
    {
      "cell_type": "markdown",
      "source": [
        "##### 3. Will the gained insights help creating a positive business impact?\n",
        "yes the gained insights help creating a positive business impact\n",
        "##### Are there any insights that lead to negative growth? Justify with specific reason.\n",
        "\n",
        "##### price saturation\n",
        " If all businesses in a high-demand area (Manhattan) simply raise prices to match the average, it could lead to price saturation. This might deter some budget-conscious travelers and limit overall market growth.\n",
        "\n",
        "#####Overlooking Niche Markets:\n",
        " Focusing solely on high-average-price areas could lead businesses to overlook niche markets in outer boroughs. These areas might have a higher demand for specific types of properties or amenities (e.g., family-friendly rentals near parks), offering opportunities for targeted marketing and potentially higher occupancy rates.\n",
        "\n",
        "#####Neglecting Value Proposition:\n",
        "  Focusing solely on price might lead businesses to neglect other aspects of their listings that are important to potential guests. Highlighting unique amenities, exceptional service, or local experiences can help attract guests even in areas with slightly lower average prices."
      ],
      "metadata": {
        "id": "RoGjAbkUYoAp"
      }
    },
    {
      "cell_type": "markdown",
      "source": [
        "#### Chart - 4"
      ],
      "metadata": {
        "id": "4Of9eVA-YrdM"
      }
    },
    {
      "cell_type": "code",
      "source": [
        "#creat the violon plot for price distribution in each neighbourhood_groups\n",
        "ax= sns.violinplot(x='neighbourhood_group', y='price', data= airbnb_df)"
      ],
      "metadata": {
        "id": "irlUoxc8YrdO"
      },
      "execution_count": null,
      "outputs": []
    },
    {
      "cell_type": "markdown",
      "source": [
        "##### 1. Why did you pick the specific chart?"
      ],
      "metadata": {
        "id": "iky9q4vBYrdO"
      }
    },
    {
      "cell_type": "markdown",
      "source": [
        "\n",
        "\n",
        "*   Unlike a bar chart that only shows the average price for each group, a violin plot reveals the distribution of prices within each neighborhood. This allows you to see\n",
        "How spread out the prices are (high variance vs. low variance).\n",
        "If there are any potential outliers in terms of price.\n",
        "*   The violin plot effectively highlights the central tendency (median) of prices for each neighborhood group. This makes it easier to compare the price distributions between different locations. You can see if some neighborhoods have a wider range of prices compared to others.\n",
        "\n",
        "*   a violin plot offers additional information like The density of data points at different price points. The wider a violin plot area is at a particular price range, the more listings fall within that range.\n",
        "\n"
      ],
      "metadata": {
        "id": "aJRCwT6DYrdO"
      }
    },
    {
      "cell_type": "markdown",
      "source": [
        "##### 2. What is/are the insight(s) found from the chart?"
      ],
      "metadata": {
        "id": "F6T5p64dYrdO"
      }
    },
    {
      "cell_type": "markdown",
      "source": [
        "##### Observations\n",
        "\n",
        "\n",
        "*   price distribution is very high in Manhattan and Brooklyn. but Manhattan have more Diversity in price range, you can see in violin plot.\n",
        "*   Queens and Bronx have same price distribution but in Queens area more distribution in 50 to100  but diversity in price is not like Manhattan and Brooklyn.\n"
      ],
      "metadata": {
        "id": "Xx8WAJvtYrdO"
      }
    },
    {
      "cell_type": "markdown",
      "source": [
        "##### 3. Will the gained insights help creating a positive business impact?\n",
        "Are there any insights that lead to negative growth? Justify with specific reason."
      ],
      "metadata": {
        "id": "y-Ehk30pYrdP"
      }
    },
    {
      "cell_type": "markdown",
      "source": [
        "**Business Impact:**\n",
        "*  Positive: Price diversity attracts a wider audience. Offering listings across various price ranges (Manhattan, Brooklyn) caters to different budgets, potentially increasing user base and bookings.\n",
        "\n",
        "*  Negative (Potential): Missing mid-range options? Queens and Bronx might focus too much on budget options, neglecting travelers willing to pay more for something beyond the basic offering.\n",
        "\n",
        "\n",
        "\n",
        "\n"
      ],
      "metadata": {
        "id": "jLNxxz7MYrdP"
      }
    },
    {
      "cell_type": "markdown",
      "source": [
        "#### Chart - 5"
      ],
      "metadata": {
        "id": "bamQiAODYuh1"
      }
    },
    {
      "cell_type": "code",
      "source": [
        "#creating a new data frame that displays the top 10 neighbhurhoods in the airbnb_df based on the number of listing in the neighborhood\n",
        "Top_neighborhood = airbnb_df['neighbourhood'].value_counts()[:10].reset_index()\n",
        "\n",
        "#renaming the Dataframe which is obtained\n",
        "Top_neighborhood.columns = ['Top_neighborhood', 'Listing_counts']\n",
        "Top_neighborhood\n",
        "\n",
        "\n",
        "\n"
      ],
      "metadata": {
        "id": "4gpPRoX-8xkg"
      },
      "execution_count": null,
      "outputs": []
    },
    {
      "cell_type": "code",
      "source": [
        "Top_neighborhood.columns"
      ],
      "metadata": {
        "id": "jNrJtoLcHczD"
      },
      "execution_count": null,
      "outputs": []
    },
    {
      "cell_type": "code",
      "source": [
        "# Get the top 10 neighborhoods by listing count\n",
        "top_10_neigbourhoods = airbnb_df['neighbourhood'].value_counts().nlargest(10)\n",
        "\n",
        "# Create a list of colors to use for the bars\n",
        "colors = ['c', 'g', 'olive', 'y', 'm', 'orange', '#C0C0C0', '#800000', '#008000', '#000080']\n",
        "\n",
        "# Create a bar plot of the top 10 neighborhoods using the specified colors\n",
        "top_10_neigbourhoods.plot(kind='bar', figsize=(15, 6), color = colors)\n",
        "\n",
        "# Set the x-axis label\n",
        "plt.xlabel('Neighbourhood', fontsize=14)\n",
        "\n",
        "# Set the y-axis label\n",
        "plt.ylabel('Total Listing Counts', fontsize=14)\n",
        "\n",
        "# Set the title of the plot\n",
        "plt.title('Listings by Top Neighborhoods in NYC', fontsize=15)\n"
      ],
      "metadata": {
        "id": "YdzK8tjzECCH"
      },
      "execution_count": null,
      "outputs": []
    },
    {
      "cell_type": "markdown",
      "source": [
        "##### 1. Why did you pick the specific chart?"
      ],
      "metadata": {
        "id": "QHF8YVU7Yuh3"
      }
    },
    {
      "cell_type": "markdown",
      "source": [
        "#####Suitability for Categorical Data:\n",
        "\n",
        "A bar chart is ideal for representing categorical data, such as neighborhood names, on the x-axis. Each bar corresponds to a specific neighborhood category.\n",
        "\n",
        "#####Comparison of Listing Counts:\n",
        "\n",
        "The height of each bar in the chart directly represents the total listing count for a particular neighborhood. This allows me to easily compare listing counts across different neighborhoods.\n",
        "\n",
        "#####Clarity and Simplicity:\n",
        "\n",
        "Bar charts are generally easy to understand, even for individuals unfamiliar with data visualization. The bars provide a clear visual representation of the relative magnitudes of listing counts."
      ],
      "metadata": {
        "id": "dcxuIMRPYuh3"
      }
    },
    {
      "cell_type": "markdown",
      "source": [
        "##### 2. What is/are the insight(s) found from the chart?"
      ],
      "metadata": {
        "id": "GwzvFGzlYuh3"
      }
    },
    {
      "cell_type": "markdown",
      "source": [
        "#####  Observations\n",
        "\n",
        "\n",
        "*   The top neighborhoods in the New York city in terms of listing counts are williamsburg, Bedford-steuyvesant, Harlem, Bushwick, and the Upper West Side.\n",
        "*   These top Neighborhoods are primarily located in Manhattan and Brooklyn. This may be due to the fact that tese areas are having a higher overall population and a higher demand for housing.\n"
      ],
      "metadata": {
        "id": "uyqkiB8YYuh3"
      }
    },
    {
      "cell_type": "markdown",
      "source": [
        "##### 3. Will the gained insights help creating a positive business impact?\n",
        "Are there any insights that lead to negative growth? Justify with specific reason."
      ],
      "metadata": {
        "id": "qYpmQ266Yuh3"
      }
    },
    {
      "cell_type": "markdown",
      "source": [
        "**Business Impact:**\n",
        "*  Positive: Targeting popular neighborhoods allows Airbnb to cater to user preferences and potentially increase bookings in high-demand areas.\n",
        "\n",
        "*  Negative (Potential): Neglecting other areas might miss out on potential hosts and limit user options in less-represented neighborhoods. This could hinder overall growth."
      ],
      "metadata": {
        "id": "_WtzZ_hCYuh4"
      }
    },
    {
      "cell_type": "markdown",
      "source": [
        "#### Chart - 6"
      ],
      "metadata": {
        "id": "OH-pJp9IphqM"
      }
    },
    {
      "cell_type": "code",
      "source": [
        "#creating a new data frame to display number of hosts in each neighbourhood_group in airbnb_df\n",
        "hosts_per_location = airbnb_df.groupby('neighbourhood_group')['host_id'].count().reset_index()\n",
        "\n",
        "#rename the columns of the resulting Dataframe to 'Neighbourhood_groups' and 'Host_counts'\n",
        "hosts_per_location.columns= ['Neighbourhood_groups', 'Host_counts']\n",
        "hosts_per_location\n",
        "\n"
      ],
      "metadata": {
        "id": "kuRf4wtuphqN"
      },
      "execution_count": null,
      "outputs": []
    },
    {
      "cell_type": "code",
      "source": [
        "# creating a new data frame to display number of hosts in each neighbourhood_group in airbnb_df\n",
        "hosts_per_location = airbnb_df.groupby('neighbourhood_group')['host_id'].count()\n",
        "\n",
        "locations = hosts_per_location.index\n",
        "Host_counts=hosts_per_location.values\n",
        "# ploting the chart for the above dataframe\n",
        "\n",
        "plt.figure(figsize=(12, 5))\n",
        "plt.plot(locations, Host_counts, marker='d', ms='12', mew='4', mec='r')\n",
        "\n",
        "#  Set the title of the plot using the plt.title() function\n",
        "plt.title('Number of Active Hosts per Location', fontsize=15)\n",
        "\n",
        "plt.xlabel('Location', fontsize=14)\n",
        "plt.ylabel('Number of Active Hosts', fontsize=14)\n",
        "plt.show()"
      ],
      "metadata": {
        "id": "oZwiBik9uMpp"
      },
      "execution_count": null,
      "outputs": []
    },
    {
      "cell_type": "markdown",
      "source": [
        "##### 1. Why did you pick the specific chart?"
      ],
      "metadata": {
        "id": "bbFf2-_FphqN"
      }
    },
    {
      "cell_type": "markdown",
      "source": [
        "##### **Suitability for Exploring Relationships:**\n",
        "Scatter plots are ideal for exploring potential relationships between two continuous variables. In this case, locations (categorical data) can be treated as a proxy for continuous geographic variations. The host counts (numerical) represent the number of Airbnb listings in each location.\n",
        "\n",
        "##### **Distributions and Outliers:**\n",
        "\n",
        "Scatter plots can reveal patterns in the distribution of the data. You can identify locations with exceptionally high or low host counts (potential outliers).\n",
        "\n",
        "##### **No Assumption of Linearity:**\n",
        "\n",
        "Unlike line plots, scatter plots don't inherently assume a linear relationship between the variables. They're suitable even if the relationship isn't linear or if there's no clear trend"
      ],
      "metadata": {
        "id": "loh7H2nzphqN"
      }
    },
    {
      "cell_type": "markdown",
      "source": [
        "##### 2. What is/are the insight(s) found from the chart?"
      ],
      "metadata": {
        "id": "_ouA3fa0phqN"
      }
    },
    {
      "cell_type": "markdown",
      "source": [
        "##### Observations\n",
        "\n",
        "\n",
        "*   Manhattan has the largest number of hosts with 19501,Brooklyn has the second largest number of hosts with 19415.\n",
        "*   After that Queens with 5567 and the Bronx with 1070. while Staten Island has the fewest with 365.\n",
        "\n",
        "*   Brooklyn and Manhattan have the largest number of hosts, with more than double the number of hosts in Queens and more than 18 times the number of hosts in the Bronx.\n",
        "\n",
        "\n"
      ],
      "metadata": {
        "id": "VECbqPI7phqN"
      }
    },
    {
      "cell_type": "markdown",
      "source": [
        "##### 3. Will the gained insights help creating a positive business impact?\n",
        "Are there any insights that lead to negative growth? Justify with specific reason."
      ],
      "metadata": {
        "id": "Seke61FWphqN"
      }
    },
    {
      "cell_type": "markdown",
      "source": [
        "**Business Impact:**\n",
        "*  Positive: Targeting dense areas like Manhattan and Brooklyn allows Airbnb to connect users with a wider variety of listings, potentially increasing bookings.\n",
        "\n",
        "*  Negative (Potential): Neglecting under-represented areas (Queens, Bronx, Staten Island) might miss out on potential hosts and limit overall inventory. This could restrict user options and growth."
      ],
      "metadata": {
        "id": "DW4_bGpfphqN"
      }
    },
    {
      "cell_type": "markdown",
      "source": [
        "#### Chart - 7"
      ],
      "metadata": {
        "id": "PIIx-8_IphqN"
      }
    },
    {
      "cell_type": "code",
      "source": [
        "#creat a new data frame that display the avg price of airbnb rentals in each neighborhood\n",
        "\n",
        "grouped_neighborhood = airbnb_df.groupby(\"neighbourhood\")\n",
        "def calculate_neighborhood_stats(group_data_avg_price):\n",
        "    # Access and calculate statistics for numerical columns within the group\n",
        "    numerical_data_of_avg_price = group_data_avg_price.select_dtypes(include=['int64', 'float64'])  # Select numerical columns\n",
        "    return numerical_data_of_avg_price.mean()  # Calculate mean for each numerical column\n",
        "mean_of_grouped_neighborhood_data=grouped_neighborhood.apply(calculate_neighborhood_stats)\n",
        "\n",
        "\n",
        "neighbourhood_avg_price=mean_of_grouped_neighborhood_data.reset_index()\n",
        "neighbourhood_avg_price=round(neighbourhood_avg_price.rename(columns= {\"price\":'avg_price'}),2)\n",
        "neighbourhood_avg_price[['neighbourhood','avg_price']]\n",
        "neighbourhood_avg_price.sort_values('avg_price').head(10)\n",
        "# join the resulting DataFrame with the 'neighbourhood_group' column from the Airbnb NYC dataset, dropping any duplicate entries\n",
        "neighbourhood_avg_price_sorted_with_group = neighbourhood_avg_price.join(airbnb_df[['neighbourhood', 'neighbourhood_group']].drop_duplicates().set_index('neighbourhood'),\n",
        "                                                                         on='neighbourhood')\n",
        "# Display the resulting data\n",
        "\n",
        "# Get the top 10 rows (assuming you want to style the top 10)\n",
        "top_10_data = neighbourhood_avg_price_sorted_with_group.head(10)\n",
        "\n",
        "# Hide the index using set_index\n",
        "top_10_data = top_10_data.set_index('neighbourhood')\n",
        "\n",
        "# Apply styling using the DataFrame method directly\n",
        "styled_data = top_10_data.style\n",
        "\n",
        "# Display the styled DataFrame\n",
        "display(styled_data)\n"
      ],
      "metadata": {
        "id": "lqAIGUfyphqO"
      },
      "execution_count": null,
      "outputs": []
    },
    {
      "cell_type": "code",
      "source": [
        "# Create a new DataFrame with the average price for each neighborhood\n",
        "neighbourhood_prices = neighbourhood_avg_price[['neighbourhood','avg_price']]\n",
        "neighbourhood_prices['neighbourhood'] = neighbourhood_prices['neighbourhood'].astype('object')\n",
        "neighbourhood_prices\n",
        "df = airbnb_df.merge(neighbourhood_prices, on=\"neighbourhood\")\n",
        "df\n",
        "#Create the scattermapbox plot\n",
        "fig = df.plot.scatter(x=\"longitude\", y=\"latitude\", c=\"avg_price\", title=\"Average Airbnb Price by Neighborhoods in New York City\", figsize=(12,6), cmap=\"plasma\")\n",
        "fig"
      ],
      "metadata": {
        "id": "13GN-jsTY7EQ"
      },
      "execution_count": null,
      "outputs": []
    },
    {
      "cell_type": "code",
      "source": [
        "#extract the values from the dataset\n",
        "neighbourhoods = neighbourhood_avg_price_sorted_with_group['neighbourhood']\n",
        "prices = neighbourhood_avg_price_sorted_with_group['avg_price']\n",
        "\n",
        "#create the bar plot\n",
        "plt.figure(figsize=(50,20))\n",
        "plt.bar(neighbourhoods, prices, width=1, color = 'orchid')\n",
        "plt.xlabel('Neighborhood',fontsize=40)\n",
        "plt.ylabel('Average Price',fontsize=40 )\n",
        "plt.title('Average Price by Neighborhood',fontsize=50)\n",
        "plt.xticks(rotation=90)\n",
        "# Show the plot\n",
        "plt.show()"
      ],
      "metadata": {
        "id": "EcneRj70lruA"
      },
      "execution_count": null,
      "outputs": []
    },
    {
      "cell_type": "markdown",
      "source": [
        "##### 1. Why did you pick the specific chart?"
      ],
      "metadata": {
        "id": "t27r6nlMphqO"
      }
    },
    {
      "cell_type": "markdown",
      "source": [
        "#####Scatter plot\n",
        "\n",
        "\n",
        "*   want to visualize the relationship betweeen two Numerical variables.\n",
        "*   had a larger dataset with many data points.\n",
        "*   scatter plots effectively reveal how two variables change in relation to eachother.\n",
        "*   by plotting many data points, scatter plots can handle larger datasets without ovrewhelming the viewer.\n",
        "\n",
        "#####Bar plot\n",
        "\n",
        "*   Bar plots are excellent for comparing discrete categories or frequencies.\n",
        "*   They provide a clear visual representation of the magnitude of differences between categories.\n",
        "\n",
        "*   The simplicity of bar plots makes them easy to understand for a broad audience.\n",
        "*   They are often used in presentations or reports to communicate key findings effectively.\n",
        "\n",
        "\n",
        "\n",
        "\n",
        "\n",
        "\n",
        "\n"
      ],
      "metadata": {
        "id": "iv6ro40sphqO"
      }
    },
    {
      "cell_type": "markdown",
      "source": [
        "##### 2. What is/are the insight(s) found from the chart?"
      ],
      "metadata": {
        "id": "r2jJGEOYphqO"
      }
    },
    {
      "cell_type": "markdown",
      "source": [
        "##### Observations\n",
        "\n",
        "*   All of the neighborhoods listed are located in the outer boroughs of New York City (Bronx, Queens, and Staten Island). This suggests that these neighborhoods may have a lower overall cost of living compared to neighborhoods in Manhattan and Brooklyn.\n",
        "*   These neighborhoods may be attractive to renters or buyers looking for more affordable housing options in the New York City area.\n",
        "\n",
        "*   Most of these neighborhoods are located in the Bronx and Staten Island. These boroughs tend to have a lower overall cost of living compared to Manhattan and Brooklyn.\n",
        "\n",
        "\n",
        "\n",
        "\n"
      ],
      "metadata": {
        "id": "Po6ZPi4hphqO"
      }
    },
    {
      "cell_type": "markdown",
      "source": [
        "##### 3. Will the gained insights help creating a positive business impact?\n",
        "Are there any insights that lead to negative growth? Justify with specific reason."
      ],
      "metadata": {
        "id": "b0JNsNcRphqO"
      }
    },
    {
      "cell_type": "markdown",
      "source": [
        "**Business Impact:**\n",
        "*  Positive: Targeting affordability attracts budget travelers. Lower costs in outer boroughs can attract a new user segment, increasing bookings.\n",
        "\n",
        "*  Negative (Potential): Missing high-spenders? Limited presence in Manhattan and Brooklyn might miss out on travelers willing to pay more for central locations or luxury experiences."
      ],
      "metadata": {
        "id": "xvSq8iUTphqO"
      }
    },
    {
      "cell_type": "markdown",
      "source": [
        "#### Chart - 8"
      ],
      "metadata": {
        "id": "BZR9WyysphqO"
      }
    },
    {
      "cell_type": "code",
      "source": [
        "#creating a new dataframe that displays the number of listings of each room type in the data set\n",
        "top_room_types = airbnb_df['room_type'].value_counts().reset_index()\n",
        "\n",
        "#rename the columns of the resulting dataframe to Room_type and Total_counts\n",
        "top_room_types.columns = ['Room_type', 'Total_counts']\n",
        "\n",
        "#displaying the result\n",
        "top_room_types\n",
        "\n",
        "\n"
      ],
      "metadata": {
        "id": "TdPTWpAVphqO"
      },
      "execution_count": null,
      "outputs": []
    },
    {
      "cell_type": "code",
      "source": [
        "#set the figure size\n",
        "plt.figure(figsize=(12,6))\n",
        "\n",
        "#get the Room_types counts\n",
        "room_type_counts = airbnb_df['room_type'].value_counts()\n",
        "\n",
        "#set the labels and values for the pie chart\n",
        "labels=room_type_counts.index\n",
        "sizes = room_type_counts.values\n",
        "\n",
        "#creat a Pie Chart\n",
        "plt.pie(sizes, labels=labels, autopct='%1.1f%%')\n",
        "\n",
        "#add a legend to the chart\n",
        "plt.legend(title='Room Type', bbox_to_anchor=(0.8, 0, 0.5, 1), fontsize='12')\n",
        "\n",
        "#show the plot\n",
        "plt.show()\n",
        "\n"
      ],
      "metadata": {
        "id": "U-GLBqDO71IZ"
      },
      "execution_count": null,
      "outputs": []
    },
    {
      "cell_type": "markdown",
      "source": [
        "##### 1. Why did you pick the specific chart?"
      ],
      "metadata": {
        "id": "jj7wYXLtphqO"
      }
    },
    {
      "cell_type": "markdown",
      "source": [
        "\n",
        "\n",
        "*   Pie charts show how different categories contribute to a whole. Each slice represents a portion, and their sizes reflect their contribution.\n",
        "\n",
        "*   having small number of categories Using pie charts to avoid clutter and ensure readability.\n",
        "\n",
        "*   Pie charts highlight the relative sizes of categories, making it easy to see which category dominates.\n",
        "\n",
        "*   Pie charts are familiar and easy to understand for a broad audience, making them suitable for clear communication.\n",
        ""
      ],
      "metadata": {
        "id": "Ob8u6rCTphqO"
      }
    },
    {
      "cell_type": "markdown",
      "source": [
        "##### 2. What is/are the insight(s) found from the chart?"
      ],
      "metadata": {
        "id": "eZrbJ2SmphqO"
      }
    },
    {
      "cell_type": "markdown",
      "source": [
        "##### Observations\n",
        "\n",
        "\n",
        "*   The majority of listings on Airbnb are for entire homes or apartments, with 22784 listings, followed by private rooms with 21996 listings, and shared rooms with 1138 listings.\n",
        "\n",
        "\n",
        "\n",
        "*   There is a significant difference in the number of listings for each room type. For example, there are almost 20 times as many listings for entire homes or apartments as there are for shared rooms.\n",
        "\n",
        "\n",
        "*   The data suggests that travelers using Airbnb have a wide range of accommodation options to choose from, including private rooms and entire homes or apartments\n",
        "\n",
        "\n"
      ],
      "metadata": {
        "id": "mZtgC_hjphqO"
      }
    },
    {
      "cell_type": "markdown",
      "source": [
        "##### 3. Will the gained insights help creating a positive business impact?\n",
        "Are there any insights that lead to negative growth? Justify with specific reason."
      ],
      "metadata": {
        "id": "rFu4xreNphqO"
      }
    },
    {
      "cell_type": "markdown",
      "source": [
        "**Business Impact:**\n",
        "*  Positive: Variety attracts users. Diverse room types (entire homes, private rooms) cater to different budgets and preferences, potentially increasing user base and bookings.\n",
        "\n",
        "*  Negative (Potential): Limited shared room options might miss out on budget-conscious travelers seeking the most affordable option."
      ],
      "metadata": {
        "id": "ey_0qi68phqO"
      }
    },
    {
      "cell_type": "markdown",
      "source": [
        "#### Chart - 9"
      ],
      "metadata": {
        "id": "YJ55k-q6phqO"
      }
    },
    {
      "cell_type": "code",
      "source": [
        "#group the dataframe by the minimum neights column and count the number of rows in each group\n",
        "min_nights_count = airbnb_df.groupby('minimum_nights').size().reset_index(name = 'count')\n",
        "\n",
        "#sort the resulting dataframe in desending order by the count column\n",
        "min_nights_count = min_nights_count.sort_values('count', ascending = False)\n",
        "\n",
        "#select the top 10 rows\n",
        "min_nights_count = min_nights_count.head(15)\n",
        "\n",
        "# Reset the index\n",
        "min_nights_count = min_nights_count.reset_index(drop=True)\n",
        "\n",
        "# Display the resulting DataFrame\n",
        "min_nights_count\n"
      ],
      "metadata": {
        "id": "B2aS4O1ophqO"
      },
      "execution_count": null,
      "outputs": []
    },
    {
      "cell_type": "code",
      "source": [
        "# Extract the minimum_nights and count columns from the DataFrame\n",
        "minimum_nights = min_nights_count['minimum_nights']\n",
        "count = min_nights_count['count']\n",
        "\n",
        "# Set the figure size\n",
        "plt.figure(figsize=(12, 4))\n",
        "\n",
        "# Create the bar plot\n",
        "plt.bar(minimum_nights, count)\n",
        "\n",
        "# Add axis labels and a title\n",
        "plt.xlabel('Minimum Nights', fontsize='14')\n",
        "plt.ylabel('Count', fontsize='14')\n",
        "plt.title('Stay Requirement by Minimum Nights', fontsize='15')\n",
        "\n",
        "# Show the plot\n",
        "plt.show()"
      ],
      "metadata": {
        "id": "Uf0ECLo1P6M9"
      },
      "execution_count": null,
      "outputs": []
    },
    {
      "cell_type": "markdown",
      "source": [
        "##### 1. Why did you pick the specific chart?"
      ],
      "metadata": {
        "id": "gCFgpxoyphqP"
      }
    },
    {
      "cell_type": "markdown",
      "source": [
        "##### Suitability for Categorical Data:\n",
        "A bar chart is ideal for representing categorical data, such as neighborhood names, on the x-axis. Each bar corresponds to a specific neighborhood category.\n",
        "\n",
        "#####Comparison of Listing Counts:\n",
        "The height of each bar in the chart directly represents the total listing count for a particular neighborhood. This allows me to easily compare listing counts across different neighborhoods.\n",
        "\n",
        "#####Clarity and Simplicity:\n",
        "Bar charts are generally easy to understand, even for individuals unfamiliar with data visualization. The bars provide a clear visual representation of the relative magnitudes of listing counts."
      ],
      "metadata": {
        "id": "TVxDimi2phqP"
      }
    },
    {
      "cell_type": "markdown",
      "source": [
        "##### 2. What is/are the insight(s) found from the chart?"
      ],
      "metadata": {
        "id": "OVtJsKN_phqQ"
      }
    },
    {
      "cell_type": "markdown",
      "source": [
        "\n",
        "\n",
        "\n",
        "\n",
        "*   Most Airbnb listings require a minimum stay of 1 or 2 nights, with 12,067 and 11,080 listings, respectively.\n",
        "\n",
        "*   The number of listings decreases as the minimum stay requirement increases, with 7,375 listings requiring at least 3 nights.\n",
        "*   Only a few listings require a minimum stay of 30 nights or more, with 3,489 and 189 listings, respectively\n",
        "\n",
        "\n",
        "\n"
      ],
      "metadata": {
        "id": "ngGi97qjphqQ"
      }
    },
    {
      "cell_type": "markdown",
      "source": [
        "##### 3. Will the gained insights help creating a positive business impact?\n",
        "Are there any insights that lead to negative growth? Justify with specific reason."
      ],
      "metadata": {
        "id": "lssrdh5qphqQ"
      }
    },
    {
      "cell_type": "markdown",
      "source": [
        "**Business Impact:**\n",
        "\n",
        "*  Positive: Focus on short stays aligns with user demand, potentially boosting bookings and revenue for Airbnb and hosts.\n",
        "\n",
        "*  Negative (Potential): Limited long-term options might miss out on a niche market of business travelers or those seeking temporary housing"
      ],
      "metadata": {
        "id": "tBpY5ekJphqQ"
      }
    },
    {
      "cell_type": "markdown",
      "source": [
        "#### Chart - 10"
      ],
      "metadata": {
        "id": "U2RJ9gkRphqQ"
      }
    },
    {
      "cell_type": "code",
      "source": [
        "# group the data by neighbourhood group and calculate the total number of reviews\n",
        "reviews_by_neighbourhood_group = airbnb_df.groupby('neighbourhood_group')['number_of_reviews'].sum()\n",
        "\n",
        "#create a pie chart\n",
        "plt.pie(reviews_by_neighbourhood_group, labels=reviews_by_neighbourhood_group.index, autopct='%1.1f%%')\n",
        "plt.title(\"Number of Reviews by Neighborhood Group in New York City\", fontsize= 15)\n",
        "\n",
        "# Display the chart\n",
        "plt.show()\n"
      ],
      "metadata": {
        "id": "OkdY64eVSQWD"
      },
      "execution_count": null,
      "outputs": []
    },
    {
      "cell_type": "markdown",
      "source": [
        "##### 1. Why did you pick the specific chart?"
      ],
      "metadata": {
        "id": "1M8mcRywphqQ"
      }
    },
    {
      "cell_type": "markdown",
      "source": [
        "*   Pie charts show how different categories contribute to a whole. Each slice represents a portion, and their sizes reflect their contribution.\n",
        "\n",
        "*   having small number of categories Using pie charts to avoid clutter and ensure readability.\n",
        "\n",
        "*   Pie charts highlight the relative sizes of categories, making it easy to see which category dominates.\n",
        "\n",
        "*   Pie charts are familiar and easy to understand for a broad audience, making them suitable for clear communication."
      ],
      "metadata": {
        "id": "8agQvks0phqQ"
      }
    },
    {
      "cell_type": "markdown",
      "source": [
        "##### 2. What is/are the insight(s) found from the chart?"
      ],
      "metadata": {
        "id": "tgIPom80phqQ"
      }
    },
    {
      "cell_type": "markdown",
      "source": [
        "\n",
        "*   Brooklyn has the most reviews on Airbnb, with 43.3%, followed by Manhattan with 38.9%.\n",
        "\n",
        "*   Queens has 14.2% of the reviews, while the Bronx has 2.6% and Staten Island has 1.0%.\n",
        "\n",
        "*   Airbnb is more popular in Brooklyn and Manhattan than in other neighborhoods.\n",
        "\n",
        "*   Brooklyn, despite having fewer listings, has more reviews than Manhattan. This could mean that users in Brooklyn are more likely to leave reviews, or that Brooklyn listings are more popular or successful in generating positive reviews. Other factors like listing quality or traveler characteristics might also contribute to this difference.\n",
        "\n"
      ],
      "metadata": {
        "id": "Qp13pnNzphqQ"
      }
    },
    {
      "cell_type": "markdown",
      "source": [
        "#### Chart - 11"
      ],
      "metadata": {
        "id": "x-EpHcCOp1ci"
      }
    },
    {
      "cell_type": "code",
      "source": [
        "# group the airbnb_df by neighbourhood_groop\n",
        "max_reviews_by_neighbourhood_group = airbnb_df.groupby(\"neighbourhood_group\")['number_of_reviews'].max()\n",
        "\n",
        "#creat a pie chart\n",
        "plt.pie(max_reviews_by_neighbourhood_group, labels= max_reviews_by_neighbourhood_group.index, autopct=\"%1.1f%%\")\n",
        "\n",
        "# Add a title to the chart\n",
        "plt.title(\"Number of maximum Reviews by Neighborhood Group in NYC\", fontsize='15')\n",
        "\n",
        "# Display the chart\n",
        "plt.show()\n"
      ],
      "metadata": {
        "id": "mAQTIvtqp1cj"
      },
      "execution_count": null,
      "outputs": []
    },
    {
      "cell_type": "markdown",
      "source": [
        "##### 1. Why did you pick the specific chart?"
      ],
      "metadata": {
        "id": "X_VqEhTip1ck"
      }
    },
    {
      "cell_type": "markdown",
      "source": [
        "*   Pie charts show how different categories contribute to a whole. Each slice represents a portion, and their sizes reflect their contribution.\n",
        "\n",
        "*   having small number of categories Using pie charts to avoid clutter and ensure readability.\n",
        "\n",
        "*   Pie charts highlight the relative sizes of categories, making it easy to see which category dominates.\n",
        "\n",
        "*   Pie charts are familiar and easy to understand for a broad audience, making them suitable for clear communication."
      ],
      "metadata": {
        "id": "-vsMzt_np1ck"
      }
    },
    {
      "cell_type": "markdown",
      "source": [
        "##### 2. What is/are the insight(s) found from the chart?"
      ],
      "metadata": {
        "id": "8zGJKyg5p1ck"
      }
    },
    {
      "cell_type": "markdown",
      "source": [
        "*   Queens and Manhattan are the most popular neighborhoods for reviews, with high numbers of maximum reviews.\n",
        "\n",
        "*   Queens has the highest percentage of reviews at 26.5%, despite having the third highest number of listings, suggesting it is a popular destination for tourists.\n",
        "*   Manhattan and Brooklyn have high percentages of reviews at 25.5% and 20.5%, indicating they are also popular destinations.\n",
        "\n",
        "*   Overall, Queens, Manhattan, and Brooklyn are the top neighborhoods for tourists, based on the high number of reviews they receive.\n",
        "\n"
      ],
      "metadata": {
        "id": "ZYdMsrqVp1ck"
      }
    },
    {
      "cell_type": "markdown",
      "source": [
        "#### Chart - 12"
      ],
      "metadata": {
        "id": "n3dbpmDWp1ck"
      }
    },
    {
      "cell_type": "code",
      "source": [
        "# create a figure with a default size of (10, 8)\n",
        "f, ax = plt.subplots(figsize=(10, 8))\n",
        "\n",
        "# create a stripplot that displays the number of reviews per month for each room type in the Airbnb NYC dataset\n",
        "ax = sns.stripplot(x='room_type', y='reviews_per_month', hue='neighbourhood_group', dodge=True, data=airbnb_df, palette='Set2')\n",
        "\n",
        "# set the title of the plot\n",
        "ax.set_title('Most Reviewed room_types in each Neighbourhood Groups', fontsize='14')\n",
        "\n"
      ],
      "metadata": {
        "id": "bwevp1tKp1ck"
      },
      "execution_count": null,
      "outputs": []
    },
    {
      "cell_type": "markdown",
      "source": [
        "##### 1. Why did you pick the specific chart?"
      ],
      "metadata": {
        "id": "ylSl6qgtp1ck"
      }
    },
    {
      "cell_type": "markdown",
      "source": [
        "\n",
        "\n",
        "*   stripplots are Ideal for comparing distributions when you have several categories (like room types in Airbnb data).\n",
        "\n",
        "*   Stripplots can reveal overlapping distributions between categories, unlike bar charts that might obscure overlaps.\n",
        "\n",
        "*   Individual data points (like reviews per month in airbnb data) are plotted, making it easier to spot outliers within each category.\n",
        "*   Stripplots allow for visual comparison of data points within a category. You can see how reviews per month vary for each room type across different neighborhood groups.\n"
      ],
      "metadata": {
        "id": "m2xqNkiQp1ck"
      }
    },
    {
      "cell_type": "markdown",
      "source": [
        "##### 2. What is/are the insight(s) found from the chart?"
      ],
      "metadata": {
        "id": "ZWILFDl5p1ck"
      }
    },
    {
      "cell_type": "markdown",
      "source": [
        "*   Private rooms received the most reviews per month, with Manhattan having the highest number of reviews for private rooms at over 50 reviews per month.\n",
        "\n",
        "*   Manhattan and Queens received the most reviews for entire home/apartment room types.\n",
        "*   Shared rooms received fewer reviews compared to other room types, with most shared room reviews coming from Staten Island, followed by the Bronx.\n",
        "\n",
        "\n"
      ],
      "metadata": {
        "id": "x-lUsV2mp1ck"
      }
    },
    {
      "cell_type": "markdown",
      "source": [
        "#### Chart - 13"
      ],
      "metadata": {
        "id": "Ag9LCva-p1cl"
      }
    },
    {
      "cell_type": "code",
      "source": [
        "\n",
        "#analysis of room types count inNeighbourhood groups in NYC\n",
        "\n",
        "#set the figure or the size of the plot\n",
        "plt.rcParams['figure.figsize'] = (10,6)\n",
        "\n",
        "#creating countplot using seaborn\n",
        "ax = sns.countplot(y='room_type', hue='neighbourhood_group', data=airbnb_df, palette='YlGnBu')\n",
        "\n",
        "#calculate the total number of room_types values\n",
        "Total_roomtypes= len(airbnb_df['room_type'])\n",
        "print(\"Total room Types: \", Total_roomtypes)\n",
        "\n",
        "#adding percentage labels to each bar in the plot\n",
        "for p in ax.patches:\n",
        "  percentage = '{:.1f}%'.format(100*p.get_width()/Total_roomtypes)\n",
        "  x = p.get_x() + p.get_width() + 0.03\n",
        "  y = p.get_y() + p.get_height()/1.3\n",
        "  ax.annotate(percentage, (x, y))\n",
        "\n",
        "# Add a title to the plot\n",
        "plt.title('count of each room types in entire NYC', fontsize=20)\n",
        "\n",
        "# Add a label to the x-axis\n",
        "plt.xlabel('Room counts', fontsize=18)\n",
        "\n",
        "# Rotate the x-tick labels\n",
        "plt.xticks(rotation=90)\n",
        "\n",
        "# Add a label to the y-axis\n",
        "plt.ylabel('Room Types', fontsize=18)\n",
        "\n",
        "# Display the plot\n",
        "plt.show()"
      ],
      "metadata": {
        "id": "EUfxeq9-p1cl"
      },
      "execution_count": null,
      "outputs": []
    },
    {
      "cell_type": "markdown",
      "source": [
        "##### 1. Why did you pick the specific chart?"
      ],
      "metadata": {
        "id": "E6MkPsBcp1cl"
      }
    },
    {
      "cell_type": "markdown",
      "source": [
        "*   Count plots excel at showing how different categories contribute to a total number. Each bar in the plot represents a category, and the bar height reflects the number of observations in that category.\n",
        "\n",
        "*   Count plots are effective for comparing the occurrence of different categories. By looking at the relative lengths of the bars, you can easily identify which categories have the most or least observations.\n",
        "*   Unlike some plot types that can become cluttered with many data points, count plots are effective for visualizing categorical data with a moderate number of categories (typically less than 15).\n",
        "\n"
      ],
      "metadata": {
        "id": "V22bRsFWp1cl"
      }
    },
    {
      "cell_type": "markdown",
      "source": [
        "##### 2. What is/are the insight(s) found from the chart?"
      ],
      "metadata": {
        "id": "2cELzS2fp1cl"
      }
    },
    {
      "cell_type": "markdown",
      "source": [
        "*   Manhattan has the most listed properties with entire home/apartment types, making up 24.6% of total listings, followed by Brooklyn with 19.5%.\n",
        "*   Brooklyn has the highest percentage of private rooms at 21.9%, followed by Manhattan with 16.9%, and Queens with 7.3%.\n",
        "*   Very few listings have shared rooms, with shared rooms being almost nonexistent in Staten Island and the Bronx.\n",
        "*   Brooklyn, Queens, and the Bronx have more private room types, while Manhattan, with the highest number of listings in NYC, has more entire home/apartment types.\n",
        "\n"
      ],
      "metadata": {
        "id": "ozQPc2_Ip1cl"
      }
    },
    {
      "cell_type": "markdown",
      "source": [
        "##### 3. Will the gained insights help creating a positive business impact?\n",
        "Are there any insights that lead to negative growth? Justify with specific reason."
      ],
      "metadata": {
        "id": "3MPXvC8up1cl"
      }
    },
    {
      "cell_type": "markdown",
      "source": [
        "**breakdown of the insights and their impact:**\n",
        "\n",
        "**Positive**\n",
        "*  Target marketing based on borough and room type (entire home vs. private) can attract relevant users. This benefits both Airbnb (increased bookings) and hosts (higher occupancy rates).\n",
        "\n",
        "*  Investors can use borough data (e.g., Manhattan saturated with entire homes) to make informed decisions about where to invest in Airbnb properties. This leads to a better fit between supply and demand.\n",
        "\n",
        "**Negative**\n",
        "\n",
        "*  An overabundance of a room type (e.g., private rooms in Brooklyn) could signal market saturation, leading to increased competition and potentially lower rental income for Airbnb hosts.\n",
        "\n",
        "*  Boroughs with mostly private rooms (e.g., Brooklyn) might attract budget tourists, potentially contributing to gentrification and displacing long-term residents due to rising housing costs."
      ],
      "metadata": {
        "id": "GL8l1tdLp1cl"
      }
    },
    {
      "cell_type": "markdown",
      "source": [
        "#### Chart - 14"
      ],
      "metadata": {
        "id": "NCsYnAoiY6z7"
      }
    },
    {
      "cell_type": "code",
      "source": [
        "# creating a scatter plot that displays the longitude and latitude of the listing in the Airbnb NYC dataset. with color of each point indicating the price of the listing\n",
        "fig= airbnb_df.plot.scatter(x='longitude', y='latitude', c='price', title='Price Variation of Airbnb Dataset in NYC', figsize=(14,8), cmap='jet')\n",
        "\n",
        "fig\n",
        "\n",
        "\n"
      ],
      "metadata": {
        "id": "zFWT-uGwZJWo"
      },
      "execution_count": null,
      "outputs": []
    },
    {
      "cell_type": "markdown",
      "source": [
        "##### 1. Why did you pick the specific chart?"
      ],
      "metadata": {
        "id": "WN-f76evbEHl"
      }
    },
    {
      "cell_type": "markdown",
      "source": [
        "#####Scatter plot\n",
        "\n",
        "\n",
        "*   want to visualize the relationship betweeen two Numerical variables.\n",
        "*   had a larger dataset with many data points.\n",
        "*   scatter plots effectively reveal how two variables change in relation to eachother.\n",
        "*   by plotting many data points, scatter plots can handle larger datasets without ovrewhelming the viewer."
      ],
      "metadata": {
        "id": "IjdVey6xbZ1i"
      }
    },
    {
      "cell_type": "markdown",
      "source": [
        "##### 2. What is/are the insight(s) found from the chart?"
      ],
      "metadata": {
        "id": "T_aGSc0zbxMt"
      }
    },
    {
      "cell_type": "markdown",
      "source": [
        "**observations**\n",
        "\n",
        "\n",
        "*   The range of prices for accommodations in Manhattan is particularly high, making it the most expensive place to stay in NYC due to its various attractive amenities.\n",
        "\n",
        "*   Manhattan attracts many tourists and visitors because it has more valuable things to see and do, which drives up prices compared to other neighborhoods.\n",
        "\n",
        "*   Travelers are likely to spend more days in Manhattan due to its popular amenities, high concentration of tourist attractions, and accessible public transportation\n",
        "\n",
        "\n",
        "\n"
      ],
      "metadata": {
        "id": "A_buqHAubzad"
      }
    },
    {
      "cell_type": "markdown",
      "source": [
        "#### Chart - 15"
      ],
      "metadata": {
        "id": "cB_TvFyhUzPO"
      }
    },
    {
      "cell_type": "code",
      "source": [
        "# group the data by neighbourhood and calculate the average numbber of reviews\n",
        "neighbourhood_avg_reviews = airbnb_df.groupby(\"neighbourhood\")['number_of_reviews'].mean()\n",
        "\n",
        "#create a new DataFrame with the average number of reviews for each neighbourhood\n",
        "neighbourhood_reviews = pd.DataFrame({\"neighbourhood\":neighbourhood_avg_reviews.index, \"avg_reviews\": neighbourhood_avg_reviews.values})\n",
        "df = airbnb_df.merge(neighbourhood_reviews, on= \"neighbourhood\")\n",
        "\n",
        "#creating a scattermap plot\n",
        "fig= df.plot.scatter(x='longitude', y='latitude', c='avg_reviews', title='Average Airbnb reviews by neighbourhood in NYC', figsize=(14,8), cmap='plasma')\n",
        "\n",
        "#display the fig\n",
        "fig\n",
        "\n",
        "\n"
      ],
      "metadata": {
        "id": "esMnOu40UzPO"
      },
      "execution_count": null,
      "outputs": []
    },
    {
      "cell_type": "markdown",
      "source": [
        "##### 1. Why did you pick the specific chart?"
      ],
      "metadata": {
        "id": "aDwPcNVEUzPP"
      }
    },
    {
      "cell_type": "markdown",
      "source": [
        "#####Scatter plot\n",
        "\n",
        "\n",
        "*   want to visualize the relationship betweeen two Numerical variables.\n",
        "*   had a larger dataset with many data points.\n",
        "*   scatter plots effectively reveal how two variables change in relation to eachother.\n",
        "*   by plotting many data points, scatter plots can handle larger datasets without ovrewhelming the viewer.\n"
      ],
      "metadata": {
        "id": "ctnz9AteUzPP"
      }
    },
    {
      "cell_type": "markdown",
      "source": [
        "#### Chart - 16 - Correlation Heatmap"
      ],
      "metadata": {
        "id": "NC_X3p0fY2L0"
      }
    },
    {
      "cell_type": "code",
      "source": [
        "# Check for non-numeric values in the dataframe\n",
        "non_numeric_columns = airbnb_df.select_dtypes(include=[\"object\"]).columns.tolist()\n",
        "\n",
        "# Print the non-numeric columns\n",
        "print(f\"Non-numeric columns: {non_numeric_columns}\")"
      ],
      "metadata": {
        "id": "s0cwtJX4mMha"
      },
      "execution_count": null,
      "outputs": []
    },
    {
      "cell_type": "code",
      "source": [
        "#selecting only numerical columns\n",
        "Numerical_columns = [col for col in airbnb_df.columns if airbnb_df[col].dtype != 'object']\n",
        "airbnb_df_numeric = airbnb_df[Numerical_columns]\n",
        "\n",
        "# Calculating the Correlation between the Numerical_columns\n",
        "correlation = airbnb_df_numeric.corr()\n",
        "\n",
        "#seting the figure size\n",
        "plt.figure(figsize = (20,10))\n",
        "\n",
        "#visualize correlation as a heatmap.\n",
        "sns.heatmap(correlation, cmap='YlGnBu', annot=True)\n",
        "plt.xticks(fontsize=20)\n",
        "plt.yticks(fontsize=20)\n",
        "\n",
        "plt.title('Correlation HeatMap of Airbnb NYC Dataset', fontsize=25)\n",
        "#Display heatmap\n",
        "plt.show()\n"
      ],
      "metadata": {
        "id": "w58_w5KOo0Ag"
      },
      "execution_count": null,
      "outputs": []
    },
    {
      "cell_type": "markdown",
      "source": [
        "##### 1. Why did you pick the specific chart?"
      ],
      "metadata": {
        "id": "UV0SzAkaZNRQ"
      }
    },
    {
      "cell_type": "markdown",
      "source": [
        "\n",
        "\n",
        "*   Heatmaps can effectively summarize large datasets with many categories. By condensing information into color gradients, they can display complex relationships in a way that's easier to grasp than tables with raw numbers. This makes them suitable for exploring trends and patterns within datasets with numerous categories.\n",
        "\n",
        "*   Handle Large Datasets Efficiently When dealing with many categories, heatmaps condense information into color gradients, summarizing complex relationships in a way that's easier to grasp than raw numbers. This makes them ideal for exploring trends and patterns in extensive datasets.\n",
        "*   Heatmaps can effectively pinpoint outliers in the data. Since color intensity reflects frequency, categories with significantly higher or lower values stand out visually, prompting further investigation or highlighting potential anomalies.\n",
        "\n"
      ],
      "metadata": {
        "id": "DVPuT8LYZNRQ"
      }
    },
    {
      "cell_type": "markdown",
      "source": [
        "##### 2. What is/are the insight(s) found from the chart?"
      ],
      "metadata": {
        "id": "YPEH6qLeZNRQ"
      }
    },
    {
      "cell_type": "markdown",
      "source": [
        "**Observations**\n",
        "\n",
        "*   There is a moderate positive correlation (0.58) between the host_id and id columns, suggesting that hosts with more listings are more likely to have unique host IDs.\n",
        "*   There is a weak positive correlation (0.17) between the price column and the calculated_host_listings_count column, indicating that hosts with more listings tend to charge higher prices for their listings.\n",
        "*   There is a moderate positive correlation (0.23) between the calculated_host_listings_count column and the availability_365 column, suggesting that hosts with more listings tend to have more days of availability in the next 365 days.\n",
        "*   There is a strong positive correlation (0.56) between the number_of_reviews column and the reviews_per_month column, indicating that listings with more total reviews tend to have more reviews per month."
      ],
      "metadata": {
        "id": "bfSqtnDqZNRR"
      }
    },
    {
      "cell_type": "markdown",
      "source": [
        "#### Chart - 17 - Pair Plot"
      ],
      "metadata": {
        "id": "q29F0dvdveiT"
      }
    },
    {
      "cell_type": "code",
      "source": [
        "#creating a pairplot using the seaborn library to visualize the relation ship between the different Variabels in the Airbnb NYC Dataset.\n",
        "sns.pairplot(airbnb_df)\n",
        "\n",
        "#showing results'\n",
        "plt.show()"
      ],
      "metadata": {
        "id": "o58-TEIhveiU"
      },
      "execution_count": null,
      "outputs": []
    },
    {
      "cell_type": "markdown",
      "source": [
        "##### 1. Why did you pick the specific chart?"
      ],
      "metadata": {
        "id": "EXh0U9oCveiU"
      }
    },
    {
      "cell_type": "markdown",
      "source": [
        "*   **Visualize All Pairwise Relationships:** Pair plots efficiently show the relationships between every numerical variable in your data at once.\n",
        "*   **Identify Correlations and Patterns:** By looking at the various plots (scatter plots, histograms on diagonal), you can see trends and linear/non-linear relationships between pairs of variables.\n",
        "*   **Spot Outliers:** Potential outliers are easily visible in scatter plots, helping you identify data points that deviate significantly from the overall trend.\n",
        "*   **Compare Distributions:** Histograms along the diagonal allow you to compare the distribution of each variable and look for potential skewness or unusual patterns.\n",
        "*  **Quick Exploration Tool:** Pair plots provide a fast and comprehensive overview of relationships within your data, guiding you towards further analysis."
      ],
      "metadata": {
        "id": "eMmPjTByveiU"
      }
    },
    {
      "cell_type": "markdown",
      "source": [
        "## **5. Solution to Business Objective**"
      ],
      "metadata": {
        "id": "JcMwzZxoAimU"
      }
    },
    {
      "cell_type": "markdown",
      "source": [
        "#### What do you suggest the client to achieve Business Objective ?\n",
        "Explain Briefly."
      ],
      "metadata": {
        "id": "8G2x9gOozGDZ"
      }
    },
    {
      "cell_type": "markdown",
      "source": [
        "**Business Solution Objectives**\n",
        "\n",
        "\n",
        "---\n",
        "\n",
        "\n",
        "1.  **Optimize Minimum Stay Requirements:** Adjust minimum stay requirements to balance between short-term and long-term bookings. Consider offering discounts for longer stays to attract more bookings for listings with higher minimum stay requirements.\n",
        "\n",
        "2.  **Enhance Listings in Popular Neighborhoods:** Focus marketing efforts on Brooklyn, Manhattan, and Queens as they receive the highest number of reviews. Highlight unique features and amenities in these neighborhoods to attract more tourists.\n",
        "\n",
        "3. **Diversify Room Types:** Increase the availability of private rooms in Brooklyn and Manhattan to cater to the high demand for this room type. Encourage hosts in Staten Island and the Bronx to offer more shared rooms to increase occupancy rates.\n",
        "\n",
        "4. **Competitive Pricing Strategies:** Implement dynamic pricing strategies in Manhattan to reflect the high demand and attract budget-conscious travelers. Use data-driven insights to adjust prices based on seasonality, events, and tourist influx.\n",
        "\n",
        "\n",
        "5. **Improve Host Engagement:** Provide training and resources for hosts to improve their listings and guest experiences, leading to more reviews and higher ratings. Encourage hosts with multiple listings to maintain high availability and competitive pricing.\n",
        "\n",
        "\n",
        "6.  **Leverage Correlation Insights:** Use the correlations between host listings, prices, and reviews to identify top-performing hosts and provide them with incentives or rewards. Encourage hosts with higher listings to maintain competitive pricing and high availability.\n",
        "\n",
        "\n",
        "7.  **Maximize Attraction of Tourists:** Highlight the unique amenities, tourist attractions, and public transport options in Manhattan to attract longer stays. Use targeted advertising to promote these features to potential tourists.\n",
        "\n",
        "\n",
        "\n",
        "By focusing on these objectives, Airbnb can optimize its listings, enhance guest experiences, and increase overall bookings and revenue in the highly competitive NYC market."
      ],
      "metadata": {
        "id": "pASKb0qOza21"
      }
    },
    {
      "cell_type": "markdown",
      "source": [
        "# **Conclusion**"
      ],
      "metadata": {
        "id": "gCX9965dhzqZ"
      }
    },
    {
      "cell_type": "markdown",
      "source": [
        "\n",
        "The analysis of Airbnb data for NYC provides several key insights and actionable business objectives that can help optimize property investments and enhance guest experiences.\n",
        "\n",
        "**The following conclusions can be drawn:**\n",
        "\n",
        "**1. High-Demand Neighborhoods:**\n",
        "\n",
        " * Manhattan and Brooklyn are the most sought-after neighborhoods for Airbnb rentals, making them prime areas for property investment. These areas benefit from high tourist traffic, which drives demand and prices.\n",
        "\n",
        "**2. Manhattan's Premium Appeal:**\n",
        "\n",
        " * Manhattan's world-renowned attractions and amenities contribute to its high accommodation prices and strong demand. Investing in Manhattan properties can be lucrative due to the consistent influx of tourists willing to pay premium prices.\n",
        "\n",
        "**3. Brooklyn's Strategic Advantage:**\n",
        "\n",
        " * Brooklyn, with its significant number of listings and relatively lower prices compared to Manhattan, attracts tourists who seek to enjoy both boroughs. Neighborhoods like Williamsburg and Bedford-Stuyvesant are particularly appealing due to their proximity to Manhattan.\n",
        "\n",
        "**4. Key Neighborhoods for Investment:**\n",
        "\n",
        " * Williamsburg, Bedford-Stuyvesant, Harlem, Bushwick, and the Upper West Side are top neighborhoods with high listing counts, indicating robust demand for Airbnb rentals. Focusing investments in these areas can yield high returns.\n",
        "\n",
        "**5. Price and Competition:**\n",
        "\n",
        " * While the average price of listings is higher in Manhattan, indicating a potentially lucrative market, the high number of hosts suggests intense competition. Hosts need to differentiate their offerings to attract guests.\n",
        "\n",
        "**6. Short-term Stay Preference:**\n",
        "\n",
        " * The majority of Airbnb bookings are for short-term stays. Hosts should optimize their properties to cater to this demand by offering flexible stay durations and competitive pricing for short-term guests.\n",
        "\n",
        "**7. Accommodation Variety:**\n",
        "\n",
        " * Travelers prefer entire homes/apartments and private rooms over shared rooms. Hosts should focus on providing a range of accommodation options to cater to different guest preferences and increase booking rates.\n",
        "Strategic Investments in\n",
        "\n",
        "**8. Underrepresented Areas:**\n",
        "\n",
        " * There are opportunities to invest in neighborhoods with fewer listings to stand out in the market. This can help hosts capture niche markets and reduce competition.\n",
        "\n",
        "**9. Queens' Proximity Advantage:**\n",
        "\n",
        " * Neighborhoods near the airport in Queens attract many travelers due to their convenience and affordability. Investing in these areas can cater to short-term guests looking for easy access to the airport and city.\n",
        "\n",
        "**10. Differentiation in Competitive Markets:**\n",
        "\n",
        " * To thrive in highly competitive areas like Manhattan and Brooklyn, hosts should offer unique amenities, exceptional guest experiences, and competitive pricing. This will help attract more guests and achieve higher occupancy rates.\n",
        "\n",
        "\n",
        "By focusing on these strategic objectives and leveraging the insights from the data analysis, Airbnb hosts and investors can optimize their property listings, attract more guests, and increase their revenue in the competitive NYC market.\n",
        "\n",
        "\n",
        "\n",
        "\n",
        "---\n",
        "\n"
      ],
      "metadata": {
        "id": "Fjb1IsQkh3yE"
      }
    },
    {
      "cell_type": "markdown",
      "source": [
        "\n",
        "\n",
        "---\n",
        "\n",
        "## **THANK YOU**"
      ],
      "metadata": {
        "id": "jouyVcs5o12P"
      }
    },
    {
      "cell_type": "markdown",
      "source": [
        "### ***Hurrah! You have successfully completed your EDA Capstone Project !!!***"
      ],
      "metadata": {
        "id": "gIfDvo9L0UH2"
      }
    }
  ]
}